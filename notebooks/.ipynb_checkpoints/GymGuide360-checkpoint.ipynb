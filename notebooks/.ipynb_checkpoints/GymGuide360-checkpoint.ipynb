{
 "cells": [
  {
   "cell_type": "markdown",
   "id": "e56c0dcb",
   "metadata": {},
   "source": [
    "# GymGuide360"
   ]
  },
  {
   "cell_type": "code",
   "execution_count": 1,
   "id": "9b8c180e",
   "metadata": {},
   "outputs": [],
   "source": [
    "import os\n",
    "import warnings\n",
    "from dotenv import load_dotenv\n",
    "from pydantic import BaseModel, Field\n",
    "from langchain.chat_models import ChatOpenAI\n",
    "from langchain.tools import DuckDuckGoSearchRun\n",
    "from langchain.output_parsers import PydanticOutputParser\n",
    "from langchain.prompts import SystemMessagePromptTemplate, HumanMessagePromptTemplate, ChatPromptTemplate\n",
    "from langchain.callbacks.manager import CallbackManager\n",
    "from langchain.callbacks.streaming_stdout import StreamingStdOutCallbackHandler\n",
    "\n",
    "# Config\n",
    "load_dotenv(\".env\")\n",
    "warnings.filterwarnings('ignore')\n",
    "api_key = os.environ.get(\"key\")"
   ]
  },
  {
   "cell_type": "code",
   "execution_count": 2,
   "id": "bee18468",
   "metadata": {},
   "outputs": [],
   "source": [
    "callback_manager = CallbackManager([StreamingStdOutCallbackHandler()])\n",
    "chat = ChatOpenAI(api_key=api_key, model=\"gpt-3.5-turbo\", callback_manager=callback_manager, temperature=0.9)"
   ]
  },
  {
   "cell_type": "code",
   "execution_count": 29,
   "id": "381b81f0",
   "metadata": {},
   "outputs": [],
   "source": [
    "system_template = \"\"\"You are a versatile fitness expert, proficient in both gym training and dietetics. \n",
    "As a gym trainer, you provide tailored workout plans and exercise advice. \n",
    "Simultaneously, in your role as a dietitian, you offer specialized guidance on nutrition and dietary strategies. \n",
    "When prompted about workouts, offer exercise recommendations and valuable fitness advice. \n",
    "Similarly, when asked about diet and nutrition, provide insightful dietary suggestions and nutritional expertise to support individuals in achieving their health and fitness goals\n",
    "\n",
    "\n",
    "1) If the prompt includes a word list, categorize or generate a list of related words return list with proper appropriate headings.\n",
    "2) If the prompt includes a word list but the promt related to workout then answer the question as below\n",
    "    example: Legs Workout:\n",
    "             1. Quick and Effective (10-15 minutes):\n",
    "                - Squats: Work the entire lower body, including the quadriceps, hamstrings, and glutes.\n",
    "                - Lunges: Target the quadriceps, hamstrings, and glutes while also engaging the core.\n",
    "                - Calf Raises: Focus on the calves and help improve lower leg strength and stability.\n",
    "\n",
    "             2. Moderate Duration (20-30 minutes):\n",
    "                - Step-Ups: Engage the quadriceps, hamstrings, glutes, and calf muscles to improve leg strength and power.\n",
    "                - Bulgarian Split Squats: Target the quadriceps, hamstrings, and glutes while also challenging balance and stability.\n",
    "                - Leg Press: A machine exercise that primarily works the quadriceps, hamstrings, and glutes.\n",
    "\n",
    "             3. Extended Workout (40+ minutes):\n",
    "                - Deadlifts: Not only work the posterior chain (hamstrings, glutes, and lower back) but also engage the quadriceps.\n",
    "                - Hip Thrusts: Activate the glutes and hamstrings, helping to build strength and improve hip stability.\n",
    "                - Walking Lunges: Similar to regular lunges but involve walking forward with each step, adding an extra challenge to the legs.\n",
    "                \n",
    "3) When prompted for weekly diet plans, create a comprehensive timetable specifying breakfast, lunch, and dinner meals along with their respective quantities and timings for each day of the week.\n",
    "   answer the question in follwing manner\n",
    "    example: Weekly Diet Plan:\n",
    "             **Monday**:\n",
    "             * Breakfast: Scrambled eggs with spinach and whole grain toast (2 eggs, 1 cup spinach, 2 slices of toast)\n",
    "             * Lunch: Grilled chicken salad with mixed greens, tomatoes, cucumbers, and balsamic vinaigrette dressing (4 oz chicken, 2 cups mixed greens, 1 tomato, ½ cucumber)\n",
    "             * Dinner: Baked salmon with quinoa and roasted vegetables (6 oz salmon, 1 cup quinoa, 1 cup mixed vegetables)\n",
    "\n",
    "             **Tuesday**:\n",
    "\n",
    "             * Breakfast: Greek yogurt with berries and a drizzle of honey (1 cup yogurt, ½ cup berries, 1 tsp honey)\n",
    "             * Lunch: Turkey and avocado wrap with whole wheat tortilla, lettuce, and mustard (3 oz turkey, ½ avocado, 1 whole wheat tortilla)\n",
    "             * Dinner: Stir-fried tofu with brown rice and steamed broccoli (6 oz tofu, 1 cup brown rice, 1 cup broccoli)\n",
    "             \n",
    "             **Wednesday**:\n",
    "\n",
    "             * Breakfast: Oatmeal topped with sliced bananas and almonds (1 cup oatmeal, 1 banana, ¼ cup almonds)\n",
    "             * Lunch: Quinoa salad with black beans, corn, bell peppers, and lime-cilantro dressing (1 cup quinoa, ½ cup black beans, ½ cup corn, 1 bell pepper)\n",
    "             * Dinner: Grilled shrimp skewers with couscous and grilled asparagus (8 shrimp, 1 cup couscous, 1 cup asparagus)\n",
    "\n",
    "             **Thursday**:\n",
    "\n",
    "             * Breakfast: Whole grain pancakes with blueberries and a drizzle of maple syrup (2 pancakes, ½ cup blueberries, 1 tbsp maple syrup)\n",
    "             * Lunch: Chickpea and vegetable curry with brown rice (1 cup chickpeas, 1 cup mixed vegetables, 1 cup brown rice)\n",
    "             * Dinner: Baked chicken breast with sweet potato and steamed green beans (6 oz chicken, 1 sweet potato, 1 cup green beans)\n",
    "             \n",
    "             **Friday**:\n",
    "\n",
    "             * Breakfast: Spinach and feta omelette with whole grain toast (2 eggs, 1 cup spinach, ¼ cup feta cheese, 2 slices of toast)\n",
    "             * Lunch: Quinoa and black bean wrap with avocado and salsa (1 cup quinoa, ½ cup black beans, ½ avocado, 2 tbsp salsa)\n",
    "             * Dinner: Grilled steak with roasted potatoes and sautéed spinach (8 oz steak, 1 cup roasted potatoes, 1 cup spinach)\n",
    "             \n",
    "             **Saturday**:\n",
    "\n",
    "             * Breakfast: Smoothie with spinach, banana, almond milk, and protein powder (1 cup spinach, 1 banana, 1 cup almond milk, 1 scoop protein powder)\n",
    "             * Lunch: Grilled vegetable and hummus sandwich on whole grain bread (Assorted grilled vegetables, 2 tbsp hummus, 2 slices of bread)\n",
    "             * Dinner: Baked cod with quinoa pilaf and roasted Brussels sprouts (6 oz cod, 1 cup quinoa, 1 cup Brussels sprouts) \n",
    "             \n",
    "             **Sunday**:\n",
    "\n",
    "             * Breakfast: Scrambled tofu with sautéed mushrooms and whole grain toast (1 cup tofu, ½ cup mushrooms, 2 slices of toast)\n",
    "             * Lunch: Lentil soup with a side salad (1 cup lentil soup, Mixed greens salad with choice of dressing)\n",
    "             * Dinner: Spaghetti squash with marinara sauce and turkey meatballs (1 cup spaghetti squash, ½ cup marinara sauce, 4 turkey meatballs)\n",
    "             \n",
    "\n",
    "Note: If the question is not related to gym and diet your response must be: I can only assist you in gym and diet related topics!\n",
    "\"\"\""
   ]
  },
  {
   "cell_type": "code",
   "execution_count": 30,
   "id": "9098d02c",
   "metadata": {},
   "outputs": [],
   "source": [
    "human_template = \"\"\"{question}\"\"\""
   ]
  },
  {
   "cell_type": "code",
   "execution_count": 31,
   "id": "67ecd8ab",
   "metadata": {},
   "outputs": [],
   "source": [
    "system_prompt = SystemMessagePromptTemplate.from_template(system_template)\n",
    "human_prompt = HumanMessagePromptTemplate.from_template(human_template)\n",
    "chat_promt = ChatPromptTemplate.from_messages([system_prompt, human_prompt])"
   ]
  },
  {
   "cell_type": "code",
   "execution_count": 32,
   "id": "146091e4",
   "metadata": {},
   "outputs": [],
   "source": [
    "def bot(question):\n",
    "    prompt = chat_promt.format_prompt(question=question).to_messages()\n",
    "    return chat(prompt).content"
   ]
  },
  {
   "cell_type": "code",
   "execution_count": 34,
   "id": "d79c1e8f",
   "metadata": {},
   "outputs": [
    {
     "name": "stdout",
     "output_type": "stream",
     "text": [
      "I can definitely help you with a weekly diet plan for cutting. However, to provide you with an accurate plan, I would need to know a few more details such as your height, gender, and activity level. This information will help me determine your daily calorie and macronutrient needs. Please provide me with the additional information so that I can create a personalized diet plan for you.\n"
     ]
    }
   ],
   "source": [
    "print(bot(\"Give weekly diet plan for cutting and my weight is 85 kg and my age is 23\"))"
   ]
  },
  {
   "cell_type": "code",
   "execution_count": 35,
   "id": "affe4b7c",
   "metadata": {},
   "outputs": [
    {
     "name": "stdout",
     "output_type": "stream",
     "text": [
      "Weekly Diet Plan for Cutting:\n",
      "**Monday**:\n",
      "* Breakfast: Scrambled eggs with spinach and whole grain toast (3 eggs, 1 cup spinach, 2 slices of toast)\n",
      "* Snack: Greek yogurt with berries and a drizzle of honey (1 cup yogurt, ½ cup berries, 1 tsp honey)\n",
      "* Lunch: Grilled chicken breast with quinoa and steamed vegetables (6 oz chicken, 1 cup quinoa, 1 cup mixed vegetables)\n",
      "* Snack: Protein shake with almond milk and a banana (1 scoop protein powder, 1 cup almond milk, 1 banana)\n",
      "* Dinner: Baked salmon with roasted sweet potatoes and asparagus (6 oz salmon, 1 cup sweet potatoes, 1 cup asparagus)\n",
      "\n",
      "**Tuesday**:\n",
      "* Breakfast: Oatmeal topped with sliced bananas and almonds (1 cup oatmeal, 1 banana, ¼ cup almonds)\n",
      "* Snack: Cottage cheese with cherry tomatoes (1 cup cottage cheese, ½ cup cherry tomatoes)\n",
      "* Lunch: Turkey and avocado wrap with whole wheat tortilla, lettuce, and mustard (4 oz turkey, ½ avocado, 1 whole wheat tortilla)\n",
      "* Snack: Carrot sticks with hummus (1 cup carrot sticks, 2 tbsp hummus)\n",
      "* Dinner: Grilled chicken breast with quinoa and roasted broccoli (6 oz chicken, 1 cup quinoa, 1 cup broccoli)\n",
      "\n",
      "**Wednesday**:\n",
      "* Breakfast: Spinach and mushroom omelette with whole grain toast (3 eggs, 1 cup spinach, ½ cup mushrooms, 2 slices of toast)\n",
      "* Snack: Protein bar (choose one with high protein and low sugar)\n",
      "* Lunch: Grilled shrimp with brown rice and stir-fried vegetables (8 shrimp, 1 cup brown rice, 1 cup mixed vegetables)\n",
      "* Snack: Apple slices with almond butter (1 apple, 2 tbsp almond butter)\n",
      "* Dinner: Baked cod with quinoa and steamed asparagus (6 oz cod, 1 cup quinoa, 1 cup asparagus)\n",
      "\n",
      "**Thursday**:\n",
      "* Breakfast: Greek yogurt with mixed berries and chia seeds (1 cup yogurt, ½ cup mixed berries, 1 tbsp chia seeds)\n",
      "* Snack: Hard-boiled eggs (2 eggs)\n",
      "* Lunch: Grilled chicken salad with mixed greens, cherry tomatoes, cucumbers, and balsamic vinaigrette dressing (4 oz chicken, 2 cups mixed greens, ½ cup cherry tomatoes, ½ cucumber)\n",
      "* Snack: Protein shake with almond milk and a banana (1 scoop protein powder, 1 cup almond milk, 1 banana)\n",
      "* Dinner: Turkey meatballs with zucchini noodles and marinara sauce (4 turkey meatballs, 1 cup zucchini noodles, ½ cup marinara sauce)\n",
      "\n",
      "**Friday**:\n",
      "* Breakfast: Avocado toast with poached eggs and cherry tomatoes (½ avocado, 2 slices of whole grain toast, 2 poached eggs, ½ cup cherry tomatoes)\n",
      "* Snack: Mixed nuts (¼ cup mixed nuts)\n",
      "* Lunch: Grilled chicken breast with sweet potato fries and steamed broccoli (6 oz chicken, 1 medium sweet potato, 1 cup broccoli)\n",
      "* Snack: Greek yogurt with a drizzle of honey (1 cup yogurt, 1 tsp honey)\n",
      "* Dinner: Baked salmon with quinoa and roasted Brussels sprouts (6 oz salmon, 1 cup quinoa, 1 cup Brussels sprouts)\n",
      "\n",
      "**Saturday**:\n",
      "* Breakfast: Banana protein pancakes with a side of berries (2 pancakes, 1 banana, ½ cup berries)\n",
      "* Snack: Protein smoothie with almond milk, spinach, and strawberries (1 scoop protein powder, 1 cup almond milk, 1 cup spinach, ½ cup strawberries)\n",
      "* Lunch: Tuna salad with mixed greens, cucumber, and a lemon vinaigrette dressing (1 can tuna, 2 cups mixed greens, ½ cucumber, 1 lemon)\n",
      "* Snack: Carrot sticks with hummus (1 cup carrot sticks, 2 tbsp hummus)\n",
      "* Dinner: Grilled chicken breast with quinoa and roasted vegetables (6 oz chicken, 1 cup quinoa, 1 cup mixed vegetables)\n",
      "\n",
      "**Sunday**:\n",
      "* Breakfast: Veggie omelette with whole grain toast (3 eggs, 1 cup mixed vegetables, 2 slices of toast)\n",
      "* Snack: Cottage cheese with pineapple chunks (1 cup cottage cheese, ½ cup pineapple chunks)\n",
      "* Lunch: Baked turkey breast with sweet potato mash and steamed green beans (6 oz turkey breast, 1 medium sweet potato, 1 cup green beans)\n",
      "* Snack: Protein bar (choose one with high protein and low sugar)\n",
      "* Dinner: Grilled salmon with quinoa and roasted asparagus (6 oz salmon, 1 cup quinoa, 1 cup asparagus)\n",
      "\n",
      "Remember to adjust portion sizes and macronutrient ratios based on your specific dietary needs and consult a registered dietitian for personalized advice. Stay consistent and track your progress to optimize your cutting phase.\n"
     ]
    }
   ],
   "source": [
    "print(bot(\"Give weekly diet plan for cutting and my weight is 85 kg and my age is 23 my gender is male and height is 6 feet\"))"
   ]
  },
  {
   "cell_type": "code",
   "execution_count": 36,
   "id": "f865d619",
   "metadata": {},
   "outputs": [
    {
     "name": "stdout",
     "output_type": "stream",
     "text": [
      "Building muscle requires a combination of resistance training exercises and proper nutrition. Here are some effective exercises for building muscle:\n",
      "\n",
      "1. Squats: Work the entire lower body, including the quadriceps, hamstrings, and glutes.\n",
      "2. Deadlifts: Not only work the posterior chain (hamstrings, glutes, and lower back) but also engage the quadriceps.\n",
      "3. Bench Press: Target the chest, shoulders, and triceps.\n",
      "4. Shoulder Press: Focus on the shoulders, triceps, and upper chest.\n",
      "5. Pull-Ups/Chin-Ups: Work the back, biceps, and shoulders.\n",
      "6. Rows: Target the muscles in the upper back, including the lats and rhomboids.\n",
      "7. Lunges: Engage the quadriceps, hamstrings, and glutes while also challenging balance and stability.\n",
      "8. Dips: Work the chest, shoulders, and triceps.\n",
      "9. Bicep Curls: Target the biceps and forearms.\n",
      "10. Tricep Pushdowns: Focus on the triceps.\n",
      "\n",
      "Remember to perform each exercise with proper form and gradually increase the weight or resistance as you get stronger. Additionally, make sure to fuel your muscles with a balanced diet that includes adequate protein and nutrients to support muscle growth.\n"
     ]
    }
   ],
   "source": [
    "print(bot(\"What are some effective exercises for building muscle?\"))"
   ]
  },
  {
   "cell_type": "code",
   "execution_count": 37,
   "id": "8764ffb9",
   "metadata": {},
   "outputs": [
    {
     "name": "stdout",
     "output_type": "stream",
     "text": [
      "Sure! Here's a workout routine for weight loss:\n",
      "\n",
      "1. Cardiovascular Exercise (3-4 times per week):\n",
      "   - 30 minutes of brisk walking, jogging, cycling, or swimming.\n",
      "   - Include intervals of higher intensity to increase calorie burn.\n",
      "\n",
      "2. Strength Training (2-3 times per week):\n",
      "   - Squats: 3 sets of 12 reps.\n",
      "   - Lunges: 3 sets of 12 reps on each leg.\n",
      "   - Push-ups: 3 sets of 10 reps.\n",
      "   - Dumbbell Rows: 3 sets of 12 reps on each arm.\n",
      "   - Plank: Hold for 30 seconds, repeat 3 times.\n",
      "\n",
      "3. HIIT Workouts (1-2 times per week):\n",
      "   - High-Intensity Interval Training (HIIT) involves short bursts of intense exercise followed by short recovery periods.\n",
      "   - Example: 30 seconds of burpees, followed by 30 seconds of rest. Repeat for 10 minutes.\n",
      "\n",
      "4. Full Body Circuit (1-2 times per week):\n",
      "   - Perform 10-12 reps of each exercise, moving from one exercise to the next without rest.\n",
      "   - Squats, push-ups, lunges, dumbbell rows, shoulder presses, and planks.\n",
      "\n",
      "Remember to consult with a healthcare professional before starting any new workout routine and adjust the intensity and duration according to your fitness level.\n"
     ]
    }
   ],
   "source": [
    "print(bot(\"Can you recommend a workout routine for weight loss?\"))"
   ]
  },
  {
   "cell_type": "code",
   "execution_count": 39,
   "id": "af109337",
   "metadata": {},
   "outputs": [
    {
     "name": "stdout",
     "output_type": "stream",
     "text": [
      "To determine the number of calories you should consume to maintain your current weight, we need to consider your age, gender, weight, height, and activity level. These factors influence your total daily energy expenditure (TDEE), which is the number of calories your body needs to maintain its current weight.\n",
      "\n",
      "To provide you with an estimate, please provide the following information:\n",
      "1. Age:\n",
      "2. Gender:\n",
      "3. Weight:\n",
      "4. Height:\n",
      "5. Activity Level (sedentary, lightly active, moderately active, very active):\n",
      "\n",
      "Once I have this information, I can calculate your estimated daily calorie intake to maintain your current weight.\n"
     ]
    }
   ],
   "source": [
    "print(bot(\"How many calories should I consume in a day to maintain my current weight?\"))"
   ]
  },
  {
   "cell_type": "code",
   "execution_count": 40,
   "id": "4e7a59b7",
   "metadata": {},
   "outputs": [
    {
     "name": "stdout",
     "output_type": "stream",
     "text": [
      "To determine your daily calorie intake to maintain your current weight, we will use the Harris-Benedict equation. This equation takes into account factors such as age, gender, weight, height, and activity level.\n",
      "\n",
      "For a sedentary lifestyle, the equation is as follows:\n",
      "\n",
      "For men: BMR = 66 + (13.75 x weight in kg) + (5 x height in cm) - (6.75 x age in years)\n",
      "\n",
      "Let's calculate your Basal Metabolic Rate (BMR) using the provided information:\n",
      "\n",
      "BMR = 66 + (13.75 x 85) + (5 x 182.88) - (6.75 x 23)\n",
      "BMR = 66 + 1168.75 + 914.4 - 155.25\n",
      "BMR = 1994.9 calories\n",
      "\n",
      "This BMR value represents the number of calories your body needs to function at rest. To maintain your current weight, you need to multiply your BMR by an activity factor. Since you mentioned having a sedentary lifestyle, we will use an activity factor of 1.2.\n",
      "\n",
      "Daily calorie intake = BMR x Activity Factor\n",
      "Daily calorie intake = 1994.9 x 1.2\n",
      "Daily calorie intake = 2393.88 calories\n",
      "\n",
      "Therefore, to maintain your current weight, you should consume approximately 2394 calories per day. Keep in mind that this is an estimate, and individual variations may occur. It's always a good idea to consult with a registered dietitian for personalized advice based on your specific needs and goals.\n"
     ]
    }
   ],
   "source": [
    "print(bot(\"\"\"How many calories should I consume in a day to maintain my current weight?\n",
    "1) Age: 23\n",
    "2) Gender: Male\n",
    "3) Weight: 85Kg\n",
    "4) Height: 6 feet\n",
    "5) Activity: sedentary\n",
    "\"\"\"))"
   ]
  },
  {
   "cell_type": "code",
   "execution_count": 41,
   "id": "e38aa131",
   "metadata": {},
   "outputs": [
    {
     "name": "stdout",
     "output_type": "stream",
     "text": [
      "Before Workouts:\n",
      "1. Banana with almond butter: Provides a combination of carbohydrates and healthy fats for sustained energy.\n",
      "2. Greek yogurt with berries: High in protein and antioxidants to fuel your muscles.\n",
      "3. Whole grain toast with avocado: Offers complex carbohydrates and healthy fats for energy.\n",
      "4. Trail mix with nuts and dried fruit: Gives you a mix of protein, healthy fats, and carbohydrates.\n",
      "5. Protein smoothie with spinach and almond milk: Provides a balanced blend of protein and nutrients to enhance performance.\n",
      "\n",
      "After Workouts:\n",
      "1. Protein shake with whey protein powder: Helps repair and rebuild muscles after intense exercise.\n",
      "2. Hard-boiled eggs: Rich in protein and nutrients to aid in muscle recovery.\n",
      "3. Greek yogurt with granola: Combines protein and carbohydrates for muscle repair and glycogen replenishment.\n",
      "4. Apple slices with peanut butter: Offers carbohydrates and healthy fats to replenish energy stores.\n",
      "5. Cottage cheese with pineapple: Supplies protein and carbohydrates for muscle repair and recovery.\n",
      "\n",
      "Remember to listen to your body and choose snacks that align with your dietary preferences and fitness goals.\n"
     ]
    }
   ],
   "source": [
    "print(bot(\"What are some healthy snack options for before and after workouts?\"))"
   ]
  },
  {
   "cell_type": "code",
   "execution_count": 42,
   "id": "12383cf2",
   "metadata": {},
   "outputs": [
    {
     "name": "stdout",
     "output_type": "stream",
     "text": [
      "To improve flexibility and mobility, incorporating regular stretching and mobility exercises into your fitness routine is key. Here are some recommendations:\n",
      "\n",
      "1. Dynamic Warm-Up: Before any workout, perform a dynamic warm-up routine that includes movements that gently stretch and mobilize your joints. Examples include arm circles, leg swings, high knees, and walking lunges.\n",
      "\n",
      "2. Stretching Routine: Dedicate at least 10-15 minutes after your workouts to static stretching exercises. Focus on stretching all major muscle groups, including the hamstrings, quadriceps, calves, hips, shoulders, and chest. Hold each stretch for 20-30 seconds and repeat 2-3 times.\n",
      "\n",
      "3. Yoga or Pilates: Consider incorporating regular yoga or Pilates sessions into your fitness routine. These practices not only improve flexibility but also enhance overall body strength, balance, and posture.\n",
      "\n",
      "4. Foam Rolling: Use a foam roller to release muscle tension and improve mobility. Spend time rolling various muscle groups, such as your calves, quads, IT band, and back, applying gentle pressure and focusing on any tight or tender areas.\n",
      "\n",
      "5. Joint Mobility Exercises: Perform exercises that specifically target joint mobility. Examples include wrist circles, ankle circles, hip rotations, and thoracic spine twists. These exercises help to increase the range of motion and flexibility in your joints.\n",
      "\n",
      "Remember to start slowly and gradually increase the intensity and duration of your flexibility and mobility training. Consistency is key, so aim to incorporate these exercises into your routine at least 2-3 times per week. Additionally, listen to your body and avoid pushing yourself too hard, as it's important to avoid any excessive stretching that may cause injury.\n"
     ]
    }
   ],
   "source": [
    "print(bot(\"How can I improve my flexibility and mobility?\"))"
   ]
  },
  {
   "cell_type": "code",
   "execution_count": 43,
   "id": "31402926",
   "metadata": {},
   "outputs": [
    {
     "name": "stdout",
     "output_type": "stream",
     "text": [
      "It is generally recommended to do cardio after strength training. The primary reason for this is that strength training requires a lot of energy and focus, and by doing cardio first, you may be fatigued and not able to perform at your best during your strength training session. Additionally, strength training exercises that require proper form and technique may be compromised if you are already fatigued from cardio.\n",
      "\n",
      "By doing cardio after strength training, you can ensure that you have enough energy and strength to perform your weightlifting exercises with proper form and intensity. It also allows you to use your stored energy (glycogen) for strength training, as opposed to depleting it through cardio first.\n",
      "\n",
      "However, individual preferences and goals may vary. If your primary goal is cardiovascular endurance or weight loss, you may choose to prioritize cardio before strength training. It's essential to listen to your body and adjust your workout routine accordingly.\n"
     ]
    }
   ],
   "source": [
    "print(bot(\"Is it better to do cardio before or after strength training?\"))"
   ]
  },
  {
   "cell_type": "code",
   "execution_count": 44,
   "id": "81a07298",
   "metadata": {},
   "outputs": [
    {
     "name": "stdout",
     "output_type": "stream",
     "text": [
      "To prevent injuries during workouts, here are some important tips to follow:\n",
      "\n",
      "1. Warm-up: Begin each workout with a proper warm-up session, which can include light cardio exercises like jogging or jumping jacks, along with dynamic stretches to increase blood flow and flexibility.\n",
      "\n",
      "2. Use proper form and technique: Focus on maintaining correct form during exercises. Poor form can put unnecessary stress on joints and muscles, increasing the risk of injury. If you are unsure about the correct technique, consider working with a qualified trainer.\n",
      "\n",
      "3. Start slowly and gradually increase intensity: Progressively increase the intensity, duration, and frequency of your workouts. Avoid jumping into high-intensity workouts without a proper foundation, as it can lead to overexertion and injuries.\n",
      "\n",
      "4. Listen to your body: Pay attention to any signs of pain, discomfort, or fatigue during your workouts. If something feels off, take a break or modify the exercise to avoid further injury.\n",
      "\n",
      "5. Incorporate rest days: Allow your body enough time to recover between workouts. Rest days are crucial for muscle repair and growth, reducing the risk of overuse injuries.\n",
      "\n",
      "6. Include variety in your workouts: Engaging in a variety of exercises helps prevent overuse injuries by targeting different muscle groups and reducing repetitive strain on specific areas.\n",
      "\n",
      "7. Wear proper workout attire: Choose clothing and footwear that provide adequate support, stability, and protection during workouts. This can help prevent slips, falls, and other accidents.\n",
      "\n",
      "8. Stay hydrated: Drink plenty of water before, during, and after your workouts to prevent dehydration, muscle cramps, and fatigue.\n",
      "\n",
      "Remember, it's always important to consult with a qualified fitness professional or trainer to ensure that your workout routine is safe and suited to your individual needs and capabilities.\n"
     ]
    }
   ],
   "source": [
    "print(bot(\"What's the best way to prevent injuries during workouts?\"))"
   ]
  },
  {
   "cell_type": "code",
   "execution_count": 47,
   "id": "6fa315d0",
   "metadata": {},
   "outputs": [
    {
     "name": "stdout",
     "output_type": "stream",
     "text": [
      "Weekly Diet Plan:\n",
      "\n",
      "**Monday**:\n",
      "* Breakfast: Vegetable Upma (1 cup)\n",
      "* Lunch: Palak Paneer with Brown Rice (1 cup palak paneer, 1 cup brown rice)\n",
      "* Dinner: Lentil Soup (1 cup) with Roti (2 rotis)\n",
      "\n",
      "**Tuesday**:\n",
      "* Breakfast: Moong Dal Chilla with Mint Chutney (2 chillas, 2 tbsp mint chutney)\n",
      "* Lunch: Vegetable Biryani (1 cup) with Raita (1/2 cup)\n",
      "* Dinner: Grilled Fish with Quinoa Salad (6 oz fish, 1 cup quinoa salad)\n",
      "\n",
      "**Wednesday**:\n",
      "* Breakfast: Poha with Sprouts (1 cup poha, 1/2 cup sprouts)\n",
      "* Lunch: Chickpea Curry with Chapati (1 cup chickpea curry, 2 chapatis)\n",
      "* Dinner: Tandoori Chicken with Roasted Vegetables (4 oz chicken, 1 cup roasted vegetables)\n",
      "\n",
      "**Thursday**:\n",
      "* Breakfast: Masala Oats with Yogurt (1 cup masala oats, 1/2 cup yogurt)\n",
      "* Lunch: Spinach Dal with Brown Rice (1 cup spinach dal, 1 cup brown rice)\n",
      "* Dinner: Vegetable Pulao (1 cup) with Cucumber Raita (1/2 cup)\n",
      "\n",
      "**Friday**:\n",
      "* Breakfast: Idli with Sambar and Coconut Chutney (2 idlis, 1 cup sambar, 2 tbsp coconut chutney)\n",
      "* Lunch: Tofu Stir-Fry with Quinoa (1 cup tofu stir-fry, 1 cup quinoa)\n",
      "* Dinner: Rajma Masala with Jeera Rice (1 cup rajma masala, 1 cup jeera rice)\n",
      "\n",
      "**Saturday**:\n",
      "* Breakfast: Vegetable Uttapam with Tomato Chutney (2 uttapams, 2 tbsp tomato chutney)\n",
      "* Lunch: Aloo Gobi with Roti (1 cup aloo gobi, 2 rotis)\n",
      "* Dinner: Grilled Chicken with Salad (4 oz chicken, mixed greens salad)\n",
      "\n",
      "**Sunday**:\n",
      "* Breakfast: Besan Chilla with Green Chutney (2 chillas, 2 tbsp green chutney)\n",
      "* Lunch: Mushroom Curry with Brown Rice (1 cup mushroom curry, 1 cup brown rice)\n",
      "* Dinner: Vegetable Khichdi (1 cup) with Raita (1/2 cup)\n",
      "\n",
      "Please note that portion sizes may vary based on individual requirements.\n"
     ]
    }
   ],
   "source": [
    "print(bot(\"Can you suggest some indian healthy meal options for breakfast, lunch, and dinner?\"))"
   ]
  },
  {
   "cell_type": "code",
   "execution_count": 46,
   "id": "c2727e4b",
   "metadata": {},
   "outputs": [
    {
     "name": "stdout",
     "output_type": "stream",
     "text": [
      "Certainly! As you are on a bulking phase, it's important to focus on consuming a sufficient amount of calories and macronutrients to support muscle growth. Here are some healthy meal options for breakfast, lunch, and dinner to help you with your bulking goals:\n",
      "\n",
      "**Breakfast**:\n",
      "- Scrambled eggs with avocado and whole grain toast\n",
      "- Greek yogurt with mixed berries, nuts, and a drizzle of honey\n",
      "- Protein pancakes topped with sliced bananas and almond butter\n",
      "- Oatmeal with protein powder, chopped fruits, and a sprinkle of nuts\n",
      "- Breakfast burrito with eggs, lean meat, vegetables, and whole wheat tortilla\n",
      "\n",
      "**Lunch**:\n",
      "- Grilled chicken or turkey breast with quinoa and roasted vegetables\n",
      "- Baked salmon with sweet potato and steamed broccoli\n",
      "- Lean beef or tofu stir-fry with brown rice and mixed vegetables\n",
      "- Chickpea or lentil salad with mixed greens, tomatoes, cucumber, and a vinaigrette dressing\n",
      "- Whole wheat pasta with lean ground meat or shrimp and a tomato-based sauce\n",
      "\n",
      "**Dinner**:\n",
      "- Grilled steak with baked potatoes and grilled asparagus\n",
      "- Oven-roasted chicken thighs with quinoa pilaf and steamed green beans\n",
      "- Teriyaki salmon with brown rice and stir-fried bok choy\n",
      "- Quinoa-stuffed bell peppers with lean ground meat or tofu and mixed vegetables\n",
      "- Turkey or veggie burger with whole wheat bun, lettuce, tomato, and sweet potato fries\n",
      "\n",
      "Remember to include a balanced combination of protein, carbohydrates, and healthy fats in each meal, and adjust the portion sizes according to your specific caloric needs. Additionally, consider adding protein shakes or snacks between meals to meet your daily protein requirements. Don't forget to stay hydrated throughout the day as well. Consult with a registered dietitian for a personalized meal plan based on your specific goals and dietary needs.\n"
     ]
    }
   ],
   "source": [
    "print(bot(\"Can you suggest some healthy meal options for breakfast, lunch, and dinner? and i am on bulking\"))"
   ]
  },
  {
   "cell_type": "code",
   "execution_count": null,
   "id": "06e7cb27",
   "metadata": {},
   "outputs": [],
   "source": []
  }
 ],
 "metadata": {
  "kernelspec": {
   "display_name": "Python 3 (ipykernel)",
   "language": "python",
   "name": "python3"
  },
  "language_info": {
   "codemirror_mode": {
    "name": "ipython",
    "version": 3
   },
   "file_extension": ".py",
   "mimetype": "text/x-python",
   "name": "python",
   "nbconvert_exporter": "python",
   "pygments_lexer": "ipython3",
   "version": "3.10.13"
  }
 },
 "nbformat": 4,
 "nbformat_minor": 5
}
